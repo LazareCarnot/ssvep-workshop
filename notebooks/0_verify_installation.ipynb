{
 "cells": [
  {
   "cell_type": "code",
   "execution_count": 1,
   "id": "1ef23633",
   "metadata": {},
   "outputs": [],
   "source": [
    "import os\n",
    "import os.path as osp\n",
    "from mne import get_config\n",
    "from moabb.utils import set_download_dir"
   ]
  },
  {
   "cell_type": "markdown",
   "id": "a234d6e2",
   "metadata": {},
   "source": [
    "# Verify MOABB Installation\n",
    "\n",
    "This very short notebook is meant to ensure that Python, MOABB and the datasets are correctly installed for the minischool.\n",
    "\n",
    "## Setting the download directory (optional)\n",
    "\n",
    "Using MOABB, it is very easy to download and to extract EEG data from open datasets. Let's first select where we want to download the datasets. You could safely skip this part if have no specific requirements on your computer.\n",
    "\n",
    "You can choose to change the download directory to any path of your choice. If the path/folder doesn’t exist, it will be created for you.\n"
   ]
  },
  {
   "cell_type": "code",
   "execution_count": 2,
   "id": "6d5ccc8b",
   "metadata": {},
   "outputs": [
    {
     "name": "stdout",
     "output_type": "stream",
     "text": [
      "The download directory is currently /home/arne/mne_data_test\n"
     ]
    }
   ],
   "source": [
    "original_path = get_config(\"MNE_DATA\")\n",
    "print(f\"The download directory is currently {original_path}\")\n",
    "new_path = osp.join(osp.expanduser(\"~\"), \"mne_data_test\") # change this to your desired path\n",
    "set_download_dir(new_path)"
   ]
  },
  {
   "cell_type": "code",
   "execution_count": 3,
   "id": "98c077b0",
   "metadata": {},
   "outputs": [
    {
     "name": "stdout",
     "output_type": "stream",
     "text": [
      "Now the download directory has been changed to /home/arne/mne_data_test\n"
     ]
    }
   ],
   "source": [
    "check_path = get_config(\"MNE_DATA\")\n",
    "print(f\"Now the download directory has been changed to {check_path}\")"
   ]
  },
  {
   "cell_type": "markdown",
   "id": "181692e8",
   "metadata": {},
   "source": [
    "# Downloading or copying datasets\n",
    "\n",
    "In case the internet connection is slow during the workshop, we have already prepared the datasets: several USB key are available and you could copy/paste the files directly on your computer.\n",
    "\n",
    "Your should copy the datasets inside the mne_data that is in your home directory or in the folder you specified above. If you are not sure, please ask!\n",
    "\n",
    "You should see at least the `` folder as listed below when you execute the following code:"
   ]
  },
  {
   "cell_type": "code",
   "execution_count": 7,
   "id": "4f5eff58",
   "metadata": {},
   "outputs": [
    {
     "name": "stdout",
     "output_type": "stream",
     "text": [
      "The folder /home/arne/mne_data_test contains:\n"
     ]
    },
    {
     "data": {
      "text/plain": [
       "['MNE-mamem3-data']"
      ]
     },
     "execution_count": 7,
     "metadata": {},
     "output_type": "execute_result"
    }
   ],
   "source": [
    "dataset_path = get_config(\"MNE_DATA\")\n",
    "print(f\"The folder {check_path} contains:\")\n",
    "os.listdir(dataset_path)"
   ]
  },
  {
   "cell_type": "markdown",
   "id": "a093a665",
   "metadata": {},
   "source": [
    "Otherwise, you can download the dataset by executing the following:"
   ]
  },
  {
   "cell_type": "code",
   "execution_count": 8,
   "id": "c4fb860e",
   "metadata": {},
   "outputs": [
    {
     "name": "stderr",
     "output_type": "stream",
     "text": [
      "/home/arne/.virtualenvs/ssvep_workshop_venv/lib/python3.10/site-packages/moabb/datasets/download.py:53: RuntimeWarning: Setting non-standard config type: \"MNE_DATASETS_SSVEPEXO_PATH\"\n",
      "  set_config(key, get_config(\"MNE_DATA\"))\n",
      "Downloading data from 'https://zenodo.org/record/2392979/files/subject01_run1_raw.fif' to file '/home/arne/mne_data_test/MNE-ssvepexo-data/record/2392979/files/subject01_run1_raw.fif'.\n",
      "100%|██████████████████████████████████████| 2.06M/2.06M [00:00<00:00, 607MB/s]\n",
      "SHA256 hash of downloaded file: 462390c675d80876d2c368a4f2d5a6813818506d530a0b45b018e876137084f3\n",
      "Use this value as the 'known_hash' argument of 'pooch.retrieve' to ensure that the file hasn't changed if it is downloaded again in the future.\n",
      "Downloading data from 'https://zenodo.org/record/2392979/files/subject01_run2_raw.fif' to file '/home/arne/mne_data_test/MNE-ssvepexo-data/record/2392979/files/subject01_run2_raw.fif'.\n",
      "100%|█████████████████████████████████████| 2.82M/2.82M [00:00<00:00, 1.07GB/s]\n",
      "SHA256 hash of downloaded file: 9727f0bde4376ec4b93ec8a9380d402eaf2d94a6d9e79776a50b9e6d00a68254\n",
      "Use this value as the 'known_hash' argument of 'pooch.retrieve' to ensure that the file hasn't changed if it is downloaded again in the future.\n",
      "Downloading data from 'https://zenodo.org/record/2392979/files/subject02_run1_raw.fif' to file '/home/arne/mne_data_test/MNE-ssvepexo-data/record/2392979/files/subject02_run1_raw.fif'.\n",
      "100%|██████████████████████████████████████| 2.58M/2.58M [00:00<00:00, 714MB/s]\n",
      "SHA256 hash of downloaded file: 937398687e04ac735aa7d1c26d715d3a675fc98a53ce6df4ce1baaa5d2ea831b\n",
      "Use this value as the 'known_hash' argument of 'pooch.retrieve' to ensure that the file hasn't changed if it is downloaded again in the future.\n",
      "Downloading data from 'https://zenodo.org/record/2392979/files/subject02_run2_raw.fif' to file '/home/arne/mne_data_test/MNE-ssvepexo-data/record/2392979/files/subject02_run2_raw.fif'.\n",
      "100%|██████████████████████████████████████| 2.14M/2.14M [00:00<00:00, 758MB/s]\n",
      "SHA256 hash of downloaded file: c6e21fb964a69d5c05d5b140e047166cec0054219b862d94e6cc9a06e88c33fe\n",
      "Use this value as the 'known_hash' argument of 'pooch.retrieve' to ensure that the file hasn't changed if it is downloaded again in the future.\n",
      "Downloading data from 'https://zenodo.org/record/2392979/files/subject03_run1_raw.fif' to file '/home/arne/mne_data_test/MNE-ssvepexo-data/record/2392979/files/subject03_run1_raw.fif'.\n",
      "100%|██████████████████████████████████████| 2.27M/2.27M [00:00<00:00, 900MB/s]\n",
      "SHA256 hash of downloaded file: 86ab7f5e8329c028ff247bb55413c600facec3f7bd6f6544d1bef351f484e9d3\n",
      "Use this value as the 'known_hash' argument of 'pooch.retrieve' to ensure that the file hasn't changed if it is downloaded again in the future.\n",
      "Downloading data from 'https://zenodo.org/record/2392979/files/subject03_run2_raw.fif' to file '/home/arne/mne_data_test/MNE-ssvepexo-data/record/2392979/files/subject03_run2_raw.fif'.\n",
      "100%|██████████████████████████████████████| 2.13M/2.13M [00:00<00:00, 749MB/s]\n",
      "SHA256 hash of downloaded file: 05def819099add6e0a3c1f3ff4d27e6dd3dcf79cfc257d99816f01bff9c16371\n",
      "Use this value as the 'known_hash' argument of 'pooch.retrieve' to ensure that the file hasn't changed if it is downloaded again in the future.\n",
      "Downloading data from 'https://zenodo.org/record/2392979/files/subject04_run1_raw.fif' to file '/home/arne/mne_data_test/MNE-ssvepexo-data/record/2392979/files/subject04_run1_raw.fif'.\n",
      "100%|██████████████████████████████████████| 2.29M/2.29M [00:00<00:00, 835MB/s]\n",
      "SHA256 hash of downloaded file: 0b62acb6716f9f56880391a2b2b58f262e6c80a31719d11f9b0012bfdf164d94\n",
      "Use this value as the 'known_hash' argument of 'pooch.retrieve' to ensure that the file hasn't changed if it is downloaded again in the future.\n",
      "Downloading data from 'https://zenodo.org/record/2392979/files/subject04_run2_raw.fif' to file '/home/arne/mne_data_test/MNE-ssvepexo-data/record/2392979/files/subject04_run2_raw.fif'.\n",
      "100%|██████████████████████████████████████| 2.06M/2.06M [00:00<00:00, 795MB/s]\n",
      "SHA256 hash of downloaded file: cb9013ee0eb75837bdfc5840070130c6e34345b333517243359201eadb8baffc\n",
      "Use this value as the 'known_hash' argument of 'pooch.retrieve' to ensure that the file hasn't changed if it is downloaded again in the future.\n",
      "Downloading data from 'https://zenodo.org/record/2392979/files/subject05_run1_raw.fif' to file '/home/arne/mne_data_test/MNE-ssvepexo-data/record/2392979/files/subject05_run1_raw.fif'.\n",
      "100%|██████████████████████████████████████| 2.12M/2.12M [00:00<00:00, 768MB/s]\n",
      "SHA256 hash of downloaded file: ce682ca6aedb88a61154f7ef0233ba27ccf59d6c87d58d37cd6bd240743a4bfd\n",
      "Use this value as the 'known_hash' argument of 'pooch.retrieve' to ensure that the file hasn't changed if it is downloaded again in the future.\n",
      "Downloading data from 'https://zenodo.org/record/2392979/files/subject05_run2_raw.fif' to file '/home/arne/mne_data_test/MNE-ssvepexo-data/record/2392979/files/subject05_run2_raw.fif'.\n",
      "100%|██████████████████████████████████████| 2.47M/2.47M [00:00<00:00, 883MB/s]\n",
      "SHA256 hash of downloaded file: 99ca9e3a9026bd2d2fed57c3d4a36780bc44fcefbe047cf183346db3331b1750\n",
      "Use this value as the 'known_hash' argument of 'pooch.retrieve' to ensure that the file hasn't changed if it is downloaded again in the future.\n",
      "Downloading data from 'https://zenodo.org/record/2392979/files/subject06_run1_raw.fif' to file '/home/arne/mne_data_test/MNE-ssvepexo-data/record/2392979/files/subject06_run1_raw.fif'.\n",
      "100%|██████████████████████████████████████| 2.71M/2.71M [00:00<00:00, 981MB/s]\n",
      "SHA256 hash of downloaded file: b2e66e124b9b796f5e24bed990d28841c7a0ab8149737af82a8ff953318179ec\n",
      "Use this value as the 'known_hash' argument of 'pooch.retrieve' to ensure that the file hasn't changed if it is downloaded again in the future.\n",
      "Downloading data from 'https://zenodo.org/record/2392979/files/subject06_run2_raw.fif' to file '/home/arne/mne_data_test/MNE-ssvepexo-data/record/2392979/files/subject06_run2_raw.fif'.\n",
      "100%|█████████████████████████████████████| 2.33M/2.33M [00:00<00:00, 1.10GB/s]\n",
      "SHA256 hash of downloaded file: 7022c4ef4650c05e9a04783118dd7e40d9ad022e598a15ae2566298620e6ee8f\n",
      "Use this value as the 'known_hash' argument of 'pooch.retrieve' to ensure that the file hasn't changed if it is downloaded again in the future.\n",
      "Downloading data from 'https://zenodo.org/record/2392979/files/subject07_run1_raw.fif' to file '/home/arne/mne_data_test/MNE-ssvepexo-data/record/2392979/files/subject07_run1_raw.fif'.\n",
      "100%|██████████████████████████████████████| 2.27M/2.27M [00:00<00:00, 795MB/s]\n",
      "SHA256 hash of downloaded file: 199c5ab96fb6830daf637c67a85abb5bfa9c3fdf2e7c5600d9a0ff9a6483c100\n",
      "Use this value as the 'known_hash' argument of 'pooch.retrieve' to ensure that the file hasn't changed if it is downloaded again in the future.\n",
      "Downloading data from 'https://zenodo.org/record/2392979/files/subject07_run2_raw.fif' to file '/home/arne/mne_data_test/MNE-ssvepexo-data/record/2392979/files/subject07_run2_raw.fif'.\n",
      "100%|██████████████████████████████████████| 1.99M/1.99M [00:00<00:00, 725MB/s]\n",
      "SHA256 hash of downloaded file: 21b4d5d08f82494f54451124859fd6a7f0bc2fcd1f3428f6a48c3576864a21db\n",
      "Use this value as the 'known_hash' argument of 'pooch.retrieve' to ensure that the file hasn't changed if it is downloaded again in the future.\n",
      "Downloading data from 'https://zenodo.org/record/2392979/files/subject07_run3_raw.fif' to file '/home/arne/mne_data_test/MNE-ssvepexo-data/record/2392979/files/subject07_run3_raw.fif'.\n",
      "100%|█████████████████████████████████████| 2.98M/2.98M [00:00<00:00, 1.07GB/s]\n",
      "SHA256 hash of downloaded file: d8a902974b8c38d2905e1ca6b8ed6befd7d474c3bcc48d383d9a692a69508c22\n",
      "Use this value as the 'known_hash' argument of 'pooch.retrieve' to ensure that the file hasn't changed if it is downloaded again in the future.\n",
      "Downloading data from 'https://zenodo.org/record/2392979/files/subject08_run1_raw.fif' to file '/home/arne/mne_data_test/MNE-ssvepexo-data/record/2392979/files/subject08_run1_raw.fif'.\n",
      "100%|█████████████████████████████████████| 2.72M/2.72M [00:00<00:00, 1.02GB/s]\n",
      "SHA256 hash of downloaded file: 22047d563a3d14458da1d097133e90774bd11a33610bbce5484f3c9520c54e9a\n",
      "Use this value as the 'known_hash' argument of 'pooch.retrieve' to ensure that the file hasn't changed if it is downloaded again in the future.\n"
     ]
    },
    {
     "name": "stderr",
     "output_type": "stream",
     "text": [
      "Downloading data from 'https://zenodo.org/record/2392979/files/subject08_run2_raw.fif' to file '/home/arne/mne_data_test/MNE-ssvepexo-data/record/2392979/files/subject08_run2_raw.fif'.\n",
      "100%|██████████████████████████████████████| 2.74M/2.74M [00:00<00:00, 970MB/s]\n",
      "SHA256 hash of downloaded file: 7ed774ba1ffb4d532a4661f9ddb925bd7fabff8f4f31f796f0e6f28bcababd78\n",
      "Use this value as the 'known_hash' argument of 'pooch.retrieve' to ensure that the file hasn't changed if it is downloaded again in the future.\n",
      "Downloading data from 'https://zenodo.org/record/2392979/files/subject09_run1_raw.fif' to file '/home/arne/mne_data_test/MNE-ssvepexo-data/record/2392979/files/subject09_run1_raw.fif'.\n",
      "100%|██████████████████████████████████████| 2.74M/2.74M [00:00<00:00, 954MB/s]\n",
      "SHA256 hash of downloaded file: 6702693d029445aa39a0a37adac647ae5ccdff5036ee784e82a6c5b95d3086cb\n",
      "Use this value as the 'known_hash' argument of 'pooch.retrieve' to ensure that the file hasn't changed if it is downloaded again in the future.\n",
      "Downloading data from 'https://zenodo.org/record/2392979/files/subject09_run2_raw.fif' to file '/home/arne/mne_data_test/MNE-ssvepexo-data/record/2392979/files/subject09_run2_raw.fif'.\n",
      "100%|██████████████████████████████████████| 2.73M/2.73M [00:00<00:00, 918MB/s]\n",
      "SHA256 hash of downloaded file: 4fbcc52be99886160ced7d32d4add4c92f4abe2c83e934e3cdd9311a3a31d65e\n",
      "Use this value as the 'known_hash' argument of 'pooch.retrieve' to ensure that the file hasn't changed if it is downloaded again in the future.\n",
      "Downloading data from 'https://zenodo.org/record/2392979/files/subject10_run1_raw.fif' to file '/home/arne/mne_data_test/MNE-ssvepexo-data/record/2392979/files/subject10_run1_raw.fif'.\n",
      "100%|█████████████████████████████████████| 3.97M/3.97M [00:00<00:00, 1.45GB/s]\n",
      "SHA256 hash of downloaded file: 25c96cf5f24e04cf348be8481a847107e7ff178fc896c2a0285236e53a3b125e\n",
      "Use this value as the 'known_hash' argument of 'pooch.retrieve' to ensure that the file hasn't changed if it is downloaded again in the future.\n",
      "Downloading data from 'https://zenodo.org/record/2392979/files/subject10_run2_raw.fif' to file '/home/arne/mne_data_test/MNE-ssvepexo-data/record/2392979/files/subject10_run2_raw.fif'.\n",
      "100%|██████████████████████████████████████| 2.72M/2.72M [00:00<00:00, 758MB/s]\n",
      "SHA256 hash of downloaded file: 46c401efa32d18740bb81ddfebe1d175df3fa8398c0410461c841aea8f0c2f68\n",
      "Use this value as the 'known_hash' argument of 'pooch.retrieve' to ensure that the file hasn't changed if it is downloaded again in the future.\n",
      "Downloading data from 'https://zenodo.org/record/2392979/files/subject10_run3_raw.fif' to file '/home/arne/mne_data_test/MNE-ssvepexo-data/record/2392979/files/subject10_run3_raw.fif'.\n",
      "100%|██████████████████████████████████████| 2.82M/2.82M [00:00<00:00, 841MB/s]\n",
      "SHA256 hash of downloaded file: fa9049f0270df97f3caaf10f72145d8f2ad5b04af2e30cceae8c4f5222a472b4\n",
      "Use this value as the 'known_hash' argument of 'pooch.retrieve' to ensure that the file hasn't changed if it is downloaded again in the future.\n",
      "Downloading data from 'https://zenodo.org/record/2392979/files/subject10_run4_raw.fif' to file '/home/arne/mne_data_test/MNE-ssvepexo-data/record/2392979/files/subject10_run4_raw.fif'.\n",
      "100%|█████████████████████████████████████| 2.77M/2.77M [00:00<00:00, 1.01GB/s]\n",
      "SHA256 hash of downloaded file: e9a7ab3c54ab1f23314b8d20214984747ff54842ce29482cdddf1fc3ad491da4\n",
      "Use this value as the 'known_hash' argument of 'pooch.retrieve' to ensure that the file hasn't changed if it is downloaded again in the future.\n",
      "Downloading data from 'https://zenodo.org/record/2392979/files/subject11_run1_raw.fif' to file '/home/arne/mne_data_test/MNE-ssvepexo-data/record/2392979/files/subject11_run1_raw.fif'.\n",
      "100%|█████████████████████████████████████| 2.72M/2.72M [00:00<00:00, 1.14GB/s]\n",
      "SHA256 hash of downloaded file: 239688db2cde8627edf207a5fb83a39c6891424f1ce5b50ce1220ea94040ffda\n",
      "Use this value as the 'known_hash' argument of 'pooch.retrieve' to ensure that the file hasn't changed if it is downloaded again in the future.\n",
      "Downloading data from 'https://zenodo.org/record/2392979/files/subject11_run2_raw.fif' to file '/home/arne/mne_data_test/MNE-ssvepexo-data/record/2392979/files/subject11_run2_raw.fif'.\n",
      "100%|██████████████████████████████████████| 2.75M/2.75M [00:00<00:00, 971MB/s]\n",
      "SHA256 hash of downloaded file: 17dbfdf278d9f4ea97496e3e6fd1c43521a21ae0ca9dcc7453a8ee8051730cb9\n",
      "Use this value as the 'known_hash' argument of 'pooch.retrieve' to ensure that the file hasn't changed if it is downloaded again in the future.\n",
      "Downloading data from 'https://zenodo.org/record/2392979/files/subject12_run1_raw.fif' to file '/home/arne/mne_data_test/MNE-ssvepexo-data/record/2392979/files/subject12_run1_raw.fif'.\n",
      "100%|██████████████████████████████████████| 3.26M/3.26M [00:00<00:00, 942MB/s]\n",
      "SHA256 hash of downloaded file: e864605256819ca15ef57bdd3f0071fc5103952007bb5066bc0bb1f8876a26c8\n",
      "Use this value as the 'known_hash' argument of 'pooch.retrieve' to ensure that the file hasn't changed if it is downloaded again in the future.\n",
      "Downloading data from 'https://zenodo.org/record/2392979/files/subject12_run2_raw.fif' to file '/home/arne/mne_data_test/MNE-ssvepexo-data/record/2392979/files/subject12_run2_raw.fif'.\n",
      "100%|█████████████████████████████████████| 3.33M/3.33M [00:00<00:00, 1.23GB/s]\n",
      "SHA256 hash of downloaded file: 29b8edad256d6fa02769c1f4919970c543ffbbb83fac491a2ec15935e274a37a\n",
      "Use this value as the 'known_hash' argument of 'pooch.retrieve' to ensure that the file hasn't changed if it is downloaded again in the future.\n",
      "Downloading data from 'https://zenodo.org/record/2392979/files/subject12_run3_raw.fif' to file '/home/arne/mne_data_test/MNE-ssvepexo-data/record/2392979/files/subject12_run3_raw.fif'.\n",
      "100%|█████████████████████████████████████| 3.23M/3.23M [00:00<00:00, 1.13GB/s]\n",
      "SHA256 hash of downloaded file: 55d3f197b4aff6c1f96b1f1d7bc54f7eb0d18b89b66dd7b58acaf2ca48489e01\n",
      "Use this value as the 'known_hash' argument of 'pooch.retrieve' to ensure that the file hasn't changed if it is downloaded again in the future.\n",
      "Downloading data from 'https://zenodo.org/record/2392979/files/subject12_run4_raw.fif' to file '/home/arne/mne_data_test/MNE-ssvepexo-data/record/2392979/files/subject12_run4_raw.fif'.\n",
      "100%|█████████████████████████████████████| 6.92M/6.92M [00:00<00:00, 6.15GB/s]\n",
      "SHA256 hash of downloaded file: 5f92d56007b4b9c9bc4e20486d39d84c8ef43c0de8e827ee452b4788481296eb\n",
      "Use this value as the 'known_hash' argument of 'pooch.retrieve' to ensure that the file hasn't changed if it is downloaded again in the future.\n",
      "Downloading data from 'https://zenodo.org/record/2392979/files/subject12_run5_raw.fif' to file '/home/arne/mne_data_test/MNE-ssvepexo-data/record/2392979/files/subject12_run5_raw.fif'.\n",
      "100%|█████████████████████████████████████| 5.35M/5.35M [00:00<00:00, 1.90GB/s]\n",
      "SHA256 hash of downloaded file: f3272b17761df094a2454faaf9eed3a4c760c3128a49b367e0f5bc5613464e02\n",
      "Use this value as the 'known_hash' argument of 'pooch.retrieve' to ensure that the file hasn't changed if it is downloaded again in the future.\n"
     ]
    },
    {
     "name": "stdout",
     "output_type": "stream",
     "text": [
      "The folder /home/arne/mne_data_test contains:\n"
     ]
    },
    {
     "data": {
      "text/plain": [
       "['MNE-mamem3-data', 'MNE-ssvepexo-data']"
      ]
     },
     "execution_count": 8,
     "metadata": {},
     "output_type": "execute_result"
    }
   ],
   "source": [
    "from moabb.datasets import SSVEPExo\n",
    "\n",
    "dataset = SSVEPExo()\n",
    "dataset.download()\n",
    "dataset_path = get_config(\"MNE_DATA\")\n",
    "print(f\"The folder {check_path} contains:\")\n",
    "os.listdir(dataset_path)"
   ]
  },
  {
   "cell_type": "code",
   "execution_count": null,
   "id": "edd1d6d5",
   "metadata": {},
   "outputs": [],
   "source": []
  }
 ],
 "metadata": {
  "kernelspec": {
   "display_name": "Python 3 (ipykernel)",
   "language": "python",
   "name": "python3"
  },
  "language_info": {
   "codemirror_mode": {
    "name": "ipython",
    "version": 3
   },
   "file_extension": ".py",
   "mimetype": "text/x-python",
   "name": "python",
   "nbconvert_exporter": "python",
   "pygments_lexer": "ipython3",
   "version": "3.10.5"
  }
 },
 "nbformat": 4,
 "nbformat_minor": 5
}
