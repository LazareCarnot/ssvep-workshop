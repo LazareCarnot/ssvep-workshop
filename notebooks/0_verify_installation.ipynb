{
 "cells": [
  {
   "cell_type": "markdown",
   "id": "15f69039",
   "metadata": {},
   "source": [
    "# Discovering MNE and MOABB\n",
    "\n",
    "## MNE\n",
    "> \\[MNE is an\\] Open-source Python package for exploring, visualizing, and analyzing human neurophysiological data: MEG, EEG, sEEG, ECoG, NIRS, and more.\n",
    "\n",
    "More information, "
   ]
  },
  {
   "cell_type": "code",
   "execution_count": null,
   "id": "879fa8c9",
   "metadata": {},
   "outputs": [],
   "source": []
  }
 ],
 "metadata": {
  "kernelspec": {
   "display_name": "Python 3 (ipykernel)",
   "language": "python",
   "name": "python3"
  },
  "language_info": {
   "codemirror_mode": {
    "name": "ipython",
    "version": 3
   },
   "file_extension": ".py",
   "mimetype": "text/x-python",
   "name": "python",
   "nbconvert_exporter": "python",
   "pygments_lexer": "ipython3",
   "version": "3.10.5"
  }
 },
 "nbformat": 4,
 "nbformat_minor": 5
}
