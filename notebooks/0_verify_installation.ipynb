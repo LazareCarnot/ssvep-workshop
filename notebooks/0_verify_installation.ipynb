{
 "cells": [
  {
   "cell_type": "markdown",
   "id": "43d08454",
   "metadata": {},
   "source": [
    "# Verify python environment"
   ]
  },
  {
   "cell_type": "code",
   "execution_count": null,
   "id": "f08e6b8d",
   "metadata": {},
   "outputs": [],
   "source": [
    "import mne\n",
    "import moabb\n",
    "impo"
   ]
  },
  {
   "cell_type": "code",
   "execution_count": 1,
   "id": "7027c79a",
   "metadata": {},
   "outputs": [],
   "source": [
    "import os\n",
    "import os.path as osp\n",
    "from mne import get_config\n",
    "from moabb.utils import set_download_dir"
   ]
  },
  {
   "cell_type": "markdown",
   "id": "b5066191",
   "metadata": {},
   "source": [
    "# Verify MOABB Installation\n",
    "\n",
    "This very short notebook is meant to ensure that Python, MOABB and the datasets are correctly installed for the minischool.\n",
    "\n",
    "## Setting the download directory (optional)\n",
    "\n",
    "Using MOABB, it is very easy to download and to extract EEG data from open datasets. Let's first select where we want to download the datasets. You could safely skip this part if have no specific requirements on your computer.\n",
    "\n",
    "You can choose to change the download directory to any path of your choice. If the path/folder doesn’t exist, it will be created for you.\n"
   ]
  },
  {
   "cell_type": "code",
   "execution_count": 2,
   "id": "a68e9d7f",
   "metadata": {},
   "outputs": [
    {
     "name": "stdout",
     "output_type": "stream",
     "text": [
      "The download directory is currently /home/arne/mne_data_test\n"
     ]
    }
   ],
   "source": [
    "original_path = get_config(\"MNE_DATA\")\n",
    "print(f\"The download directory is currently {original_path}\")\n",
    "new_path = osp.join(osp.expanduser(\"~\"), \"mne_data_test\") # change this to your desired path\n",
    "set_download_dir(new_path)"
   ]
  },
  {
   "cell_type": "code",
   "execution_count": 3,
   "id": "2753300a",
   "metadata": {},
   "outputs": [
    {
     "name": "stdout",
     "output_type": "stream",
     "text": [
      "Now the download directory has been changed to /home/arne/mne_data_test\n"
     ]
    }
   ],
   "source": [
    "check_path = get_config(\"MNE_DATA\")\n",
    "print(f\"Now the download directory has been changed to {check_path}\")"
   ]
  },
  {
   "cell_type": "markdown",
   "id": "1b2991e4",
   "metadata": {},
   "source": [
    "# Downloading or copying datasets\n",
    "\n",
    "In case the internet connection is slow during the workshop, we have already prepared the datasets: several USB key are available and you could copy/paste the files directly on your computer.\n",
    "\n",
    "Your should copy the datasets inside the mne_data that is in your home directory or in the folder you specified above. If you are not sure, please ask!\n",
    "\n",
    "You should see at least the `MNE-ssvepexo-data` folder as listed below when you execute the following code:"
   ]
  },
  {
   "cell_type": "code",
   "execution_count": 4,
   "id": "89182eb4",
   "metadata": {},
   "outputs": [
    {
     "name": "stdout",
     "output_type": "stream",
     "text": [
      "The folder /home/arne/mne_data_test contains:\n"
     ]
    },
    {
     "data": {
      "text/plain": [
       "['MNE-mamem3-data', 'MNE-ssvepexo-data']"
      ]
     },
     "execution_count": 4,
     "metadata": {},
     "output_type": "execute_result"
    }
   ],
   "source": [
    "dataset_path = get_config(\"MNE_DATA\")\n",
    "print(f\"The folder {check_path} contains:\")\n",
    "os.listdir(dataset_path)"
   ]
  },
  {
   "cell_type": "markdown",
   "id": "aa1134a6",
   "metadata": {},
   "source": [
    "Otherwise, you can download the dataset by executing the following:"
   ]
  },
  {
   "cell_type": "code",
   "execution_count": 5,
   "id": "ad4eca2d",
   "metadata": {},
   "outputs": [
    {
     "name": "stdout",
     "output_type": "stream",
     "text": [
      "The folder /home/arne/mne_data_test contains:\n"
     ]
    },
    {
     "data": {
      "text/plain": [
       "['MNE-mamem3-data', 'MNE-ssvepexo-data']"
      ]
     },
     "execution_count": 5,
     "metadata": {},
     "output_type": "execute_result"
    }
   ],
   "source": [
    "from moabb.datasets import SSVEPExo\n",
    "\n",
    "dataset = SSVEPExo()\n",
    "dataset.download()\n",
    "dataset_path = get_config(\"MNE_DATA\")\n",
    "print(f\"The folder {check_path} contains:\")\n",
    "os.listdir(dataset_path)"
   ]
  }
 ],
 "metadata": {
  "kernelspec": {
   "display_name": "Python 3 (ipykernel)",
   "language": "python",
   "name": "python3"
  },
  "language_info": {
   "codemirror_mode": {
    "name": "ipython",
    "version": 3
   },
   "file_extension": ".py",
   "mimetype": "text/x-python",
   "name": "python",
   "nbconvert_exporter": "python",
   "pygments_lexer": "ipython3",
   "version": "3.10.5"
  }
 },
 "nbformat": 4,
 "nbformat_minor": 5
}
