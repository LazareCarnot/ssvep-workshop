{
 "cells": [
  {
   "cell_type": "markdown",
   "id": "427d66f4",
   "metadata": {},
   "source": [
    "# Discovering MNE and MOABB\n",
    "\n",
    "## MNE\n",
    "> \\[MNE is an\\] Open-source Python package for exploring, visualizing, and analyzing human neurophysiological data: MEG, EEG, sEEG, ECoG, NIRS, and more.\n",
    "\n",
    "More information and documentation can be found at https://mne.tools/stable/index.html\n",
    "\n",
    "\n",
    "### Downloading a dataset\n",
    "\n",
    "To discover the features of MNE, we will make use of MOABB to download an SSVEP BCI dataset. MOABB internally uses MNE for data representation, so the downloaded data will be returned in an MNE format.\n",
    "\n",
    "The dataset used here is the `SSVEPExo` dataset from the University of Versailles [1].\n",
    "\n",
    "> The datasets contains recording from 12 male and female subjects aged between 20 and 28 years. Informed consent was obtained from all subjects, each one has signed a form attesting her or his consent. The subject sits in an electric wheelchair, his right upper limb is resting on the exoskeleton. The exoskeleton is functional but is not used during the recording of this experiment.\n",
    "\\\n",
    "A panel of size 20x30 cm is attached on the left side of the chair, with 3 groups of 4 LEDs blinking at different frequencies. Even if the panel is on the left side, the user could see it without moving its head. The subjects were asked to sit comfortably in the wheelchair and to follow the auditory instructions, they could move and blink freely.\n",
    "\\\n",
    "A sequence of trials is proposed to the user. A trial begin by an audio cue indicating which LED to focus on, or to focus on a fixation point set at an equal distance from all LEDs for the reject class. A trial lasts 5 seconds and there is a 3 second pause between each trial. The evaluation is conducted during a session consisting of 32 trials, with 8 trials for each frequency (13Hz, 17Hz and 21Hz) and 8 trials for the reject class, i.e. when the subject is not focusing on any specific blinking LED.\n",
    "\\\n",
    "There is between 2 and 5 sessions for each user, recorded on different days, by the same operators, on the same hardware and in the same conditions.\n",
    "\n",
    "https://neurotechx.github.io/moabb/generated/moabb.datasets.SSVEPExo.html#moabb.datasets.SSVEPExo"
   ]
  },
  {
   "cell_type": "code",
   "execution_count": null,
   "id": "408582ec",
   "metadata": {},
   "outputs": [],
   "source": [
    "from moabb.datasets import SSVEPExo\n",
    "\n",
    "dataset = SSVEPExo()\n",
    "dataset.download()\n",
    "dataset.get_data()"
   ]
  },
  {
   "cell_type": "markdown",
   "id": "00a07399",
   "metadata": {},
   "source": [
    "Let's create a variable `raw` containing the raw, unprocessed data from the first subject in this experiment. MNE gives a nice overview of the metadata of this EEG recording."
   ]
  },
  {
   "cell_type": "code",
   "execution_count": null,
   "id": "60ea325e",
   "metadata": {
    "scrolled": true
   },
   "outputs": [],
   "source": [
    "subj,session,run = 1, 'session_0', 'run_0'\n",
    "raw = dataset.get_data(subjects=[subj])[subj][session][run]\n",
    "raw"
   ]
  },
  {
   "cell_type": "markdown",
   "id": "e35366df",
   "metadata": {},
   "source": [
    "### Inspect raw data\n",
    "\n",
    "MNE offers a lot of useful tools for data manipulation and visualization. You can plot the locations of the elctrodes used to record the data:"
   ]
  },
  {
   "cell_type": "code",
   "execution_count": null,
   "id": "ce69a53c",
   "metadata": {
    "scrolled": true
   },
   "outputs": [],
   "source": [
    "sphere=(0,-25,0,100)\n",
    "_ = raw.plot_sensors(show_names=True, kind='topomap', sphere=sphere)"
   ]
  },
  {
   "cell_type": "markdown",
   "id": "34fedaa8",
   "metadata": {},
   "source": [
    "Plot the raw EEG data:"
   ]
  },
  {
   "cell_type": "code",
   "execution_count": null,
   "id": "65afe519",
   "metadata": {
    "scrolled": true
   },
   "outputs": [],
   "source": [
    "_ = raw.plot(duration=4, color={'eeg':'darkblue'}, scalings=dict(eeg=1e-2))"
   ]
  },
  {
   "cell_type": "markdown",
   "id": "f98fb7c4",
   "metadata": {},
   "source": [
    "Or plot the power spectral density (psd). The psd applies a Fourier transform and visualizes the frequency content of the EEG signal. Notice the large peak at 50Hz (and its harmonic at 100=50\\*2Hz) caused by noise from the power grid alternating at 50Hz, and the increase in activity from 8-12Hz indicating alpha activity in the EEG. Generally, the psd has a *1/f* characteristic, meaning that lower frequencies will have relatively higher power regardless of specific relevant brain activity occurring at these frequencies. Because no preprocessing was applied here, the SSVEP stimulation frequencies are not yet clearly visible from the psd."
   ]
  },
  {
   "cell_type": "code",
   "execution_count": null,
   "id": "28414ed9",
   "metadata": {
    "scrolled": true
   },
   "outputs": [],
   "source": [
    "_ = raw.plot_psd(sphere=sphere)"
   ]
  },
  {
   "cell_type": "markdown",
   "id": "898b2224",
   "metadata": {},
   "source": [
    "Finally, to make preprocessing and classification easier, MNE can extract events that are recorded in a stimulation channel in the EEG. For SSVEP, these events signify the onsets of the stimulations of different targets. Events can also be used as classes for classifying the three SSVEP different frequencies."
   ]
  },
  {
   "cell_type": "code",
   "execution_count": null,
   "id": "47562be2",
   "metadata": {},
   "outputs": [],
   "source": [
    "import numpy as np\n",
    "from mne import pick_types\n",
    "\n",
    "stim_idc = pick_types(raw.info, eeg=False, stim=True)\n",
    "[raw.ch_names[i] for i in stim_idc]"
   ]
  },
  {
   "cell_type": "code",
   "execution_count": null,
   "id": "c7b51e6c",
   "metadata": {},
   "outputs": [],
   "source": [
    "from mne import find_events\n",
    "from mne.viz import plot_events\n",
    "\n",
    "events = find_events(raw)\n",
    "events"
   ]
  },
  {
   "cell_type": "code",
   "execution_count": null,
   "id": "39bf4eb7",
   "metadata": {},
   "outputs": [],
   "source": [
    "_= plot_events(events)"
   ]
  },
  {
   "cell_type": "markdown",
   "id": "f22f710a",
   "metadata": {},
   "source": [
    "## MOABB\n",
    "\n",
    "The Mother Of All BCI Benchmarks is a package for interfacing with various EEG-BCI datasets from multiple paradigms and defines a framework to benchmark algorithms.\n",
    "\n",
    "More information and documentation can be found at https://neurotechx.github.io/moabb/\n",
    "\n",
    "### Paradigm\n",
    "\n",
    "MOABB can implement standardized preprocessing pipelines that can be applied to multiple datasets to fairly compare these in a benchmark. MOABB calls a preprocessing pipeline a paradigm."
   ]
  },
  {
   "cell_type": "code",
   "execution_count": null,
   "id": "f5f86ae2",
   "metadata": {},
   "outputs": [],
   "source": [
    "from moabb.paradigms import SSVEP\n",
    "dataset.event_id= {\n",
    "    '13': 2,\n",
    "    '17': 4,\n",
    "    '21': 3,    \n",
    "    'rest': 1,\n",
    "}\n",
    "paradigm = SSVEP(fmin=10, fmax=25, n_classes=3)"
   ]
  },
  {
   "cell_type": "markdown",
   "id": "c07d6c43",
   "metadata": {},
   "source": [
    "### Pipelines\n",
    "\n",
    "Classification algorithms can equally be defined independent of the dataset and are implemented using [Scikit-Learn pipelines](https://scikit-learn.org/stable/modules/compose.html#pipeline) to allow for multiple feature extraction, transformation and classification steps."
   ]
  },
  {
   "cell_type": "code",
   "execution_count": null,
   "id": "319f910b",
   "metadata": {},
   "outputs": [],
   "source": [
    "from sklearn.pipeline import make_pipeline\n",
    "from moabb.pipelines import SSVEP_CCA\n",
    "\n",
    "\n",
    "interval = dataset.interval\n",
    "freqs = paradigm.used_events(dataset)\n",
    "\n",
    "pipelines = dict()\n",
    "pipelines[\"CCA\"] = make_pipeline(\n",
    "    SSVEP_CCA(interval=interval, freqs=freqs, n_harmonics=3)\n",
    ")"
   ]
  },
  {
   "cell_type": "markdown",
   "id": "4340104d",
   "metadata": {},
   "source": [
    "### Evaluation\n",
    "\n",
    "Finally, when we have defined a paradigm and some pipelines, we can run the benchmark and evaluate BCI algorithm performance."
   ]
  },
  {
   "cell_type": "code",
   "execution_count": null,
   "id": "af957e5d",
   "metadata": {},
   "outputs": [],
   "source": [
    "from moabb.evaluations import WithinSessionEvaluation\n",
    "\n",
    "\n",
    "evaluation = WithinSessionEvaluation(\n",
    "    paradigm=paradigm,\n",
    "    datasets=dataset,\n",
    "    suffix='ssvep_workshop_moabb_intro',\n",
    "    overwrite=True\n",
    ")\n",
    "results = evaluation.process(pipelines)\n",
    "results"
   ]
  },
  {
   "cell_type": "code",
   "execution_count": null,
   "id": "139d09e7",
   "metadata": {},
   "outputs": [],
   "source": [
    "import matplotlib.pyplot as plt\n",
    "import seaborn as sns\n",
    "\n",
    "plt.figure()\n",
    "sns.catplot(kind='bar', x=\"score\", y=\"subject\", hue=None, data=results)"
   ]
  },
  {
   "cell_type": "markdown",
   "id": "dcc16faf",
   "metadata": {},
   "source": [
    "## References\n",
    "\n",
    "[1] Emmanuel K. Kalunga, Sylvain Chevallier, Quentin Barthelemy. “Online SSVEP-based BCI using Riemannian Geometry”. Neurocomputing, 2016. arXiv report: https://arxiv.org/abs/1501.03227"
   ]
  },
  {
   "cell_type": "code",
   "execution_count": null,
   "id": "df831133",
   "metadata": {},
   "outputs": [],
   "source": []
  }
 ],
 "metadata": {
  "kernelspec": {
   "display_name": "Python 3 (ipykernel)",
   "language": "python",
   "name": "python3"
  },
  "language_info": {
   "codemirror_mode": {
    "name": "ipython",
    "version": 3
   },
   "file_extension": ".py",
   "mimetype": "text/x-python",
   "name": "python",
   "nbconvert_exporter": "python",
   "pygments_lexer": "ipython3",
   "version": "3.10.5"
  }
 },
 "nbformat": 4,
 "nbformat_minor": 5
}
