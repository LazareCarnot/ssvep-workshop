{
 "cells": [
  {
   "cell_type": "markdown",
   "id": "edfb188f",
   "metadata": {},
   "source": [
    "# SSVEP Preprocessing\n",
    "\n",
    "In the following notebook, you will implement some steps to clean up the recorded EEG data in order to extract interpretable frequency content for the different SSVEP classes. When in doubt, refer to the MNE documentation at https://mne.tools/stable/python_reference.html, or don't hesitate to ask a question or help each other out.\n",
    "\n",
    "## Download the SSVEP Exoskeleton dataset\n",
    "\n",
    "First, we again load the `SSVEPExo` dataset and extract the raw, unprocessed data into variable `raw`of datatype `mne.io.Raw`."
   ]
  },
  {
   "cell_type": "code",
   "execution_count": null,
   "id": "369802c3",
   "metadata": {},
   "outputs": [],
   "source": [
    "from moabb.datasets import SSVEPExo\n",
    "\n",
    "dataset = SSVEPExo()\n",
    "dataset.download()\n",
    "dataset.get_data()\n",
    "subj,session,run = 3, 'session_0', 'run_0'\n",
    "raw = dataset.get_data(subjects=[subj])[subj][session][run]\n",
    "sphere=(0,-25,0,100)\n",
    "raw"
   ]
  },
  {
   "cell_type": "markdown",
   "id": "dab5d5db",
   "metadata": {},
   "source": [
    "Without any preprocessing, we can already see distinct peaks at the frequencies of interest for this SSVEP paradigm (13Hz, 17Hz and 21Hz) in the power spectral density. However, this will not always be the case, and these peaks are overshadowed by the power of low frequencies and other peaks the alpha activity or the powerline noise."
   ]
  },
  {
   "cell_type": "code",
   "execution_count": null,
   "id": "45491faa",
   "metadata": {},
   "outputs": [],
   "source": [
    "import matplotlib.pyplot as plt\n",
    "\n",
    "target_frequencies = [0,13,21,17]\n",
    "fig, ax = plt.subplots(1,1,figsize=(17,6))\n",
    "fig = raw.plot_psd(sphere=sphere,fmax=64,ax=ax, show=False)\n",
    "for f in target_frequencies:\n",
    "    ax.axvline(f, color='red', alpha=0.3)\n",
    "fig.show()"
   ]
  },
  {
   "cell_type": "markdown",
   "id": "aa4eb4f5",
   "metadata": {},
   "source": [
    "## Rereference\n",
    "\n",
    "Usually, the first step in EEG preprocessing is rereferencing. EEG data is recorded as differences in electrical potential between each electrode and a fixed reference electrode, which is not present in the recorded data. Afterwards, this reference can be changed in data processing to highlight some differences in the data and remove noise that is present in all electrodes.\n",
    "\n",
    "**Output**: the `raw : mne.io.Raw` variable rereferenced using an apt method.\n",
    "\n",
    "**Hint:** https://mne.tools/stable/generated/mne.io.Raw.html?highlight=set_eeg_reference#mne.io.Raw.set_eeg_reference"
   ]
  },
  {
   "cell_type": "code",
   "execution_count": null,
   "id": "5b33e045",
   "metadata": {},
   "outputs": [],
   "source": []
  },
  {
   "cell_type": "markdown",
   "id": "5853add4",
   "metadata": {},
   "source": [
    "After rereferencing, some common noise over all electrodes has been removed."
   ]
  },
  {
   "cell_type": "code",
   "execution_count": null,
   "id": "5d4f9aae",
   "metadata": {},
   "outputs": [],
   "source": [
    "fig, ax = plt.subplots(1,1,figsize=(17,6))\n",
    "fig = raw.plot_psd(sphere=sphere,fmax=64,ax=ax, show=False)\n",
    "for f in target_frequencies:\n",
    "    ax.axvline(f, color='red', alpha=0.3)\n",
    "fig.show()"
   ]
  },
  {
   "cell_type": "markdown",
   "id": "58e7cc21",
   "metadata": {},
   "source": [
    "## Filter\n",
    "\n",
    "Next let's remove the powerline noise. Since powerline noise is oftern powerful enough to leak into all other frequencies, it should be filtered out.\n",
    "\n",
    "**Output**: the `raw : mne.io.Raw` variable filtered to drop the European powerline frequency and its harmonics.\n",
    "\n",
    "**Hint**: https://mne.tools/stable/generated/mne.io.BaseRaw.html#mne.io.BaseRaw.notch_filternotch_filter#mne.io.BaseRaw.notch_filter"
   ]
  },
  {
   "cell_type": "code",
   "execution_count": null,
   "id": "5ac19739",
   "metadata": {},
   "outputs": [],
   "source": []
  },
  {
   "cell_type": "markdown",
   "id": "273a6096",
   "metadata": {},
   "source": [
    "The psd should now show very low power at the powerline frequency and its harmonics."
   ]
  },
  {
   "cell_type": "code",
   "execution_count": null,
   "id": "c141f91e",
   "metadata": {},
   "outputs": [],
   "source": [
    "fig, ax = plt.subplots(1,1,figsize=(17,6))\n",
    "fig = raw.plot_psd(sphere=sphere,fmax=64,ax=ax, show=False)\n",
    "for f in target_frequencies:\n",
    "    ax.axvline(f, color='red', alpha=0.3)\n",
    "fig.show()"
   ]
  },
  {
   "cell_type": "markdown",
   "id": "c2d4a8be",
   "metadata": {},
   "source": [
    "## Cut epochs\n",
    "\n",
    "The EEG is recorded as a continuous, multi-channel time series and is represented as such by the `mne.io.Raw` datatype. We are, however, only interested in the EEG activity during SSVEP stimulation, which might only occur sporadically troughout the recording. In order to drop irrelevant timepoints and end up with labeled segments of EEG data suited for analysis and classification, cut the continous signal into time segments (epochs) based on the events present in the stimulation channel."
   ]
  },
  {
   "cell_type": "code",
   "execution_count": null,
   "id": "ede1c7ec",
   "metadata": {},
   "outputs": [],
   "source": [
    "event_id = {\n",
    "    'rest': 1,\n",
    "    'stimulation/13Hz': 2,\n",
    "    'stimulation/21Hz': 3,\n",
    "    'stimulation/17Hz': 4,\n",
    "}"
   ]
  },
  {
   "cell_type": "markdown",
   "id": "ee472584",
   "metadata": {},
   "source": [
    "Cut the continuous EEG signal in epochs each lasting for the entire duration of one SSVEP stimulation and including some pre-stimulation activity for baseline correction (see later).\n",
    "\n",
    "**Output**: a variable `epochs : mne.Epochs` containing one epochs per event. \n",
    "\n",
    "**Hint**: https://mne.tools/stable/generated/mne.Epochs.html"
   ]
  },
  {
   "cell_type": "code",
   "execution_count": null,
   "id": "375c8d07",
   "metadata": {},
   "outputs": [],
   "source": []
  },
  {
   "cell_type": "markdown",
   "id": "f37b9948",
   "metadata": {},
   "source": [
    "The psd should look a lot cleaner now and can be split up per stimulation class."
   ]
  },
  {
   "cell_type": "code",
   "execution_count": null,
   "id": "f62806bd",
   "metadata": {},
   "outputs": [],
   "source": [
    "fig, axs = plt.subplots(1,4, figsize=(17,6), sharex=True, sharey=True)\n",
    "for i,label in enumerate(event_id.keys()):\n",
    "    axs[i].axvline(target_frequencies[i], color='red', alpha=0.3)\n",
    "    epochs[label].plot_psd(\n",
    "        sphere=sphere, tmin=0, tmax=None, show=False, ax=axs[i],\n",
    "    )\n",
    "    axs[i].set_title(label)\n",
    "fig.show()"
   ]
  },
  {
   "cell_type": "markdown",
   "id": "777ddd4f",
   "metadata": {},
   "source": [
    "This looks nice, but the result is not really fit for analysis. For instance, the alpha activity and the lowest frequencies are still a lot more powerful than the frequencies of interest."
   ]
  },
  {
   "cell_type": "markdown",
   "id": "63c0d753",
   "metadata": {},
   "source": [
    "## Frequency band power feature extraction\n",
    "\n",
    "### Time-frequency transform\n",
    "\n",
    "To inspect which frequencies are prevalent in which classes and to allow for feature extraction, we can now plot frequency powers for the stimulation frequencies and their harmonics. We do this by applying a set of multitaper filters for the frequencies of interest to the data. If you want to gain a better understanding of EEG analysis in the time-frequency domain, please refer to Mike X Cohen's Analyzing Neural Time Series Data videos: https://www.youtube.com/channel/UCUR_LsXk7IYyueSnXcNextQ/playlists?view=50&sort=dd&shelf_id=1"
   ]
  },
  {
   "cell_type": "code",
   "execution_count": null,
   "id": "97dfdb5f",
   "metadata": {},
   "outputs": [],
   "source": [
    "import numpy as np\n",
    "from mne.time_frequency import tfr_multitaper\n",
    "\n",
    "base_freqs = np.array([13]*9 + [17]*7 + [21]*6)\n",
    "harmonics = np.array([1,2,3,4,5,6,7,8,9,1,2,3,4,5,6,7,1,2,3,4,5,6])\n",
    "freqs = base_freqs*harmonics\n",
    "n_cycles = freqs*3\n",
    "epochs_tfr = tfr_multitaper(epochs, freqs=freqs, n_cycles=n_cycles, average=False, return_itc=False)\n",
    "epochs_tfr"
   ]
  },
  {
   "cell_type": "code",
   "execution_count": null,
   "id": "b5298172",
   "metadata": {},
   "outputs": [],
   "source": [
    "import seaborn as sns\n",
    "import pandas as pd\n",
    "from mne.epochs import make_metadata\n",
    "\n",
    "mean_chan_power = epochs_tfr.data.mean(axis=(1,3))\n",
    "sfreq = epochs.info['sfreq']\n",
    "meta,_,_ = make_metadata(events, event_id, epochs.tmin, epochs.tmax, sfreq)\n",
    "labels = meta['event_name']\n",
    "df = pd.DataFrame(mean_chan_power.T, columns=labels)\n",
    "df['Base frequency (Hz)'] = base_freqs\n",
    "df['Harmonic'] = harmonics\n",
    "df = df.melt(id_vars=['Base frequency (Hz)', 'Harmonic'], var_name='Label', value_name='Power (µV²)')\n",
    "sns.catplot(kind='bar', col='Label', data=df, x='Base frequency (Hz)', hue='Harmonic', y='Power (µV²)', ax=axs[i], palette='magma')"
   ]
  },
  {
   "cell_type": "markdown",
   "id": "715e8919",
   "metadata": {},
   "source": [
    "### Baseline correction\n",
    "\n",
    "Unfortunately, these features are not that easy to interpret and not fit to use for classification.\n",
    "Ideally, the stimulation frequency of a class would be present as the frequency with the highest power.\n",
    "There are several problems preventing this:\n",
    "* The 1/f scaling characteristic makes it hard to visualize data across a wide frequency range. In the example above, the harmonics, while containing relevant information, fade away as they have increasingly higher frequencies.\n",
    "* The 1/f scaling characteristic also prevents quantitative comparisons across frequencies. In the example above, the 1st harmonic of 13Hz has higher power than the first harmonic of 21Hz while 21Hz is being stimulated.\n",
    "* Background noise at specific frequencies contaminates specific epochs and/or channels.\n",
    "* Task-related changes in power in specific epochs and/or channels can be obscured by background activity or noise of higher power that is present regardless of the stimulation (e.g. alpha activity).\n",
    "\n",
    "To reveal the increase in frequency power generated by SSVEP stimulation, instead of using the raw power at specific frequencies as features, in each epoch, channel and frequency we want to look at increases or decreases of power relative to some baseline period in which no stimulation is happening. This will correct for the 1/f characteristic, and continuous noise present in some epochs or channels.\n",
    "\n",
    "Choose a relevant baselining window and method and apply baselining to the timfe-frequency epochs. Does this work well for all subjects?\n",
    "\n",
    "**Output**: the baseline corrected `epochs_tfr: mne.time_frequency.EpochsTFR` variable\n",
    "\n",
    "**Hint**: https://mne.tools/stable/generated/mne.time_frequency.EpochsTFR.html#mne.time_frequency.EpochsTFR.apply_baseline"
   ]
  },
  {
   "cell_type": "code",
   "execution_count": null,
   "id": "2fbe0127",
   "metadata": {},
   "outputs": [],
   "source": []
  },
  {
   "cell_type": "markdown",
   "id": "b515e597",
   "metadata": {},
   "source": [
    "Finally, after baseline correction, discard the baseline period so the resulting epochs contain only stimulated data.\n",
    "\n",
    "**Output**: the cropped `epochs_tfr: mne.time_frequency.EpochsTFR` variable starting at 0s.\n",
    "\n",
    "**Hint**: https://mne.tools/stable/generated/mne.time_frequency.EpochsTFR.html#mne.time_frequency.EpochsTFR.crop"
   ]
  },
  {
   "cell_type": "code",
   "execution_count": null,
   "id": "8f1b1ddb",
   "metadata": {},
   "outputs": [],
   "source": []
  },
  {
   "cell_type": "code",
   "execution_count": null,
   "id": "f740e44a",
   "metadata": {},
   "outputs": [],
   "source": [
    "mean_chan_power = epochs_tfr.data.mean(axis=(1,3))\n",
    "mean_chan_power_db = 10*np.log10(mean_chan_power)\n",
    "\n",
    "df = pd.DataFrame(mean_chan_power.T, columns=labels)\n",
    "df['Base frequency (Hz)'] = base_freqs\n",
    "df['Harmonic'] = harmonics\n",
    "df = df.melt(id_vars=['Base frequency (Hz)', 'Harmonic'], var_name='Label', value_name='Power (dB)')\n",
    "sns.catplot(kind='bar', col='Label', data=df, x='Base frequency (Hz)', hue='Harmonic', y='Power (dB)', ax=axs[i], palette='magma')"
   ]
  }
 ],
 "metadata": {
  "kernelspec": {
   "display_name": "Python 3 (ipykernel)",
   "language": "python",
   "name": "python3"
  },
  "language_info": {
   "codemirror_mode": {
    "name": "ipython",
    "version": 3
   },
   "file_extension": ".py",
   "mimetype": "text/x-python",
   "name": "python",
   "nbconvert_exporter": "python",
   "pygments_lexer": "ipython3",
   "version": "3.10.5"
  }
 },
 "nbformat": 4,
 "nbformat_minor": 5
}
