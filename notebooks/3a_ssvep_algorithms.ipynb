{
 "cells": [
  {
   "cell_type": "code",
   "execution_count": 1,
   "id": "5cc2877c",
   "metadata": {},
   "outputs": [],
   "source": [
    "from moabb.datasets import MAMEM3\n",
    "\n",
    "dataset = MAMEM3()\n",
    "interval = dataset.interval"
   ]
  },
  {
   "cell_type": "markdown",
   "id": "5a18416b",
   "metadata": {},
   "source": [
    "## Algorithm 1: Canonical correlation analysis"
   ]
  },
  {
   "cell_type": "code",
   "execution_count": 2,
   "id": "d78997f9",
   "metadata": {},
   "outputs": [
    {
     "name": "stderr",
     "output_type": "stream",
     "text": [
      "Choosing the first 3 classes from all possible events\n"
     ]
    },
    {
     "name": "stdout",
     "output_type": "stream",
     "text": [
      "{'6.66': 33029, '7.50': 33028, '8.57': 33027}\n"
     ]
    }
   ],
   "source": [
    "from moabb.paradigms import SSVEP\n",
    "\n",
    "n_classes=3\n",
    "paradigm_bandpass = SSVEP(fmin=3, fmax=45, n_classes=n_classes)\n",
    "freqs = paradigm_bandpass.used_events(dataset)\n",
    "print(freqs)"
   ]
  },
  {
   "cell_type": "code",
   "execution_count": 3,
   "id": "8403cff0",
   "metadata": {},
   "outputs": [],
   "source": [
    "from sklearn.pipeline import make_pipeline\n",
    "from moabb.pipelines import SSVEP_CCA\n",
    "from moabb.pipelines import ExtendedSSVEPSignal\n",
    "\n",
    "\n",
    "pipelines_bandpass = dict()\n",
    "pipelines_bandpass[\"CCA\"] = make_pipeline(\n",
    "    SSVEP_CCA(interval=interval, freqs=freqs, n_harmonics=2)\n",
    ")"
   ]
  },
  {
   "cell_type": "markdown",
   "id": "66126c76",
   "metadata": {},
   "source": [
    "## Algorithm 2: Task-related correlation analysis"
   ]
  },
  {
   "cell_type": "code",
   "execution_count": 13,
   "id": "9d0bfb9d",
   "metadata": {},
   "outputs": [],
   "source": [
    "from moabb.pipelines import SSVEP_TRCA\n",
    "\n",
    "\n",
    "pipelines_bandpass[\"TRCA\"] = make_pipeline(\n",
    "    SSVEP_TRCA(interval=interval, freqs=freqs, n_fbands=5, estimator='lwf')\n",
    "    \n",
    ")\n"
   ]
  },
  {
   "cell_type": "markdown",
   "id": "dd9273e4",
   "metadata": {},
   "source": [
    "## Algorithm 3: Riemannian Geometry"
   ]
  },
  {
   "cell_type": "code",
   "execution_count": 5,
   "id": "68d70753",
   "metadata": {},
   "outputs": [
    {
     "name": "stderr",
     "output_type": "stream",
     "text": [
      "Choosing the first 3 classes from all possible events\n"
     ]
    }
   ],
   "source": [
    "from moabb.paradigms import FilterBankSSVEP\n",
    "\n",
    "filter_freqs = [\n",
    "    6.66, 6.66*2,\n",
    "    7.50, 7.50*2,\n",
    "    8.57, 8.57*2,\n",
    "]\n",
    "filters = [[f-.5, f+.5] for f in filter_freqs]\n",
    "\n",
    "paradigm_filterbank = FilterBankSSVEP(n_classes=n_classes, filters=filters)"
   ]
  },
  {
   "cell_type": "code",
   "execution_count": 6,
   "id": "f8ecdadb",
   "metadata": {},
   "outputs": [],
   "source": [
    "from moabb.pipelines import ExtendedSSVEPSignal\n",
    "from pyriemann.estimation import Covariances\n",
    "from pyriemann.tangentspace import TangentSpace\n",
    "from sklearn.linear_model import LogisticRegression\n",
    "\n",
    "pipelines_filterbank = dict()\n",
    "pipelines_filterbank[\"RG+logreg\"] = make_pipeline(\n",
    "    ExtendedSSVEPSignal(),\n",
    "    Covariances(estimator=\"lwf\"),\n",
    "    TangentSpace(),\n",
    "    LogisticRegression(solver=\"lbfgs\", multi_class=\"auto\"),\n",
    ")\n"
   ]
  },
  {
   "cell_type": "markdown",
   "id": "beb39043",
   "metadata": {},
   "source": [
    "## Algorithm 4: Frequency band power"
   ]
  },
  {
   "cell_type": "code",
   "execution_count": 7,
   "id": "1bb1a447",
   "metadata": {},
   "outputs": [
    {
     "name": "stderr",
     "output_type": "stream",
     "text": [
      "Choosing the first 3 classes from all possible events\n"
     ]
    }
   ],
   "source": [
    "paradigm_filterbank_baseline = FilterBankSSVEP(n_classes=n_classes, tmin=-3, filters=filters)"
   ]
  },
  {
   "cell_type": "code",
   "execution_count": 8,
   "id": "df6e5f06",
   "metadata": {},
   "outputs": [],
   "source": [
    "from sklearn.base import BaseEstimator, TransformerMixin\n",
    "import numpy as np\n",
    "from sklearn.preprocessing import FunctionTransformer\n",
    "import ipdb\n",
    "\n",
    "def baseline_ratio(X, y=None, sfreq=128, tmin=-3, baseline=(-2.5, -.5)):\n",
    "    baseline_start = int((baseline[0]-tmin)*sfreq)\n",
    "    baseline_end = int((baseline[1]-tmin)*sfreq)        \n",
    "    baseline_period = X[:,:,baseline_start:baseline_end,:]\n",
    "    stim_start = max(0, int(-tmin*sfreq))\n",
    "    stimulation_period = X[:,:,stim_start:,:]\n",
    "    baseline_power = np.mean(baseline_period**2, axis=(1,2))\n",
    "    stimulation_power = np.mean(stimulation_period**2, axis=(1,2))\n",
    "    return stimulation_power/baseline_power\n",
    "\n",
    "pipelines_filterbank_baseline = dict()\n",
    "pipelines_filterbank_baseline['power+logreg'] = make_pipeline(\n",
    "    FunctionTransformer(baseline_ratio),\n",
    "    FunctionTransformer(np.log),\n",
    "    LogisticRegression(solver=\"lbfgs\", multi_class=\"auto\"),\n",
    ")"
   ]
  },
  {
   "cell_type": "markdown",
   "id": "b943cbfd",
   "metadata": {},
   "source": [
    "## Evaluate algorithm performance"
   ]
  },
  {
   "cell_type": "code",
   "execution_count": null,
   "id": "b7970262",
   "metadata": {
    "scrolled": true
   },
   "outputs": [
    {
     "name": "stderr",
     "output_type": "stream",
     "text": [
      "SSVEP MAMEM3-WithinSession:  80%|▊| 8/10"
     ]
    }
   ],
   "source": [
    "from moabb.evaluations import WithinSessionEvaluation\n",
    "\n",
    "evaluation_bandpass = WithinSessionEvaluation(\n",
    "    paradigm=paradigm_bandpass,\n",
    "    datasets=dataset,\n",
    "    suffix=\"ssvep_workshop_whithin_session_bandpass\",\n",
    "    overwrite=True\n",
    ")\n",
    "results_bandpass = evaluation_bandpass.process(pipelines_bandpass)\n",
    "results_bandpass"
   ]
  },
  {
   "cell_type": "code",
   "execution_count": 10,
   "id": "302ed204",
   "metadata": {},
   "outputs": [
    {
     "name": "stderr",
     "output_type": "stream",
     "text": [
      "SSVEP MAMEM3-WithinSession: 100%|█| 10/1\n"
     ]
    },
    {
     "data": {
      "text/html": [
       "<div>\n",
       "<style scoped>\n",
       "    .dataframe tbody tr th:only-of-type {\n",
       "        vertical-align: middle;\n",
       "    }\n",
       "\n",
       "    .dataframe tbody tr th {\n",
       "        vertical-align: top;\n",
       "    }\n",
       "\n",
       "    .dataframe thead th {\n",
       "        text-align: right;\n",
       "    }\n",
       "</style>\n",
       "<table border=\"1\" class=\"dataframe\">\n",
       "  <thead>\n",
       "    <tr style=\"text-align: right;\">\n",
       "      <th></th>\n",
       "      <th>score</th>\n",
       "      <th>time</th>\n",
       "      <th>samples</th>\n",
       "      <th>subject</th>\n",
       "      <th>session</th>\n",
       "      <th>channels</th>\n",
       "      <th>n_sessions</th>\n",
       "      <th>dataset</th>\n",
       "      <th>pipeline</th>\n",
       "    </tr>\n",
       "  </thead>\n",
       "  <tbody>\n",
       "    <tr>\n",
       "      <th>0</th>\n",
       "      <td>0.844444</td>\n",
       "      <td>1.645173</td>\n",
       "      <td>45.0</td>\n",
       "      <td>1</td>\n",
       "      <td>session_0</td>\n",
       "      <td>14</td>\n",
       "      <td>1</td>\n",
       "      <td>SSVEP MAMEM3</td>\n",
       "      <td>RG+logreg</td>\n",
       "    </tr>\n",
       "    <tr>\n",
       "      <th>1</th>\n",
       "      <td>0.888889</td>\n",
       "      <td>1.360557</td>\n",
       "      <td>45.0</td>\n",
       "      <td>2</td>\n",
       "      <td>session_0</td>\n",
       "      <td>14</td>\n",
       "      <td>1</td>\n",
       "      <td>SSVEP MAMEM3</td>\n",
       "      <td>RG+logreg</td>\n",
       "    </tr>\n",
       "    <tr>\n",
       "      <th>2</th>\n",
       "      <td>0.355556</td>\n",
       "      <td>2.017418</td>\n",
       "      <td>45.0</td>\n",
       "      <td>3</td>\n",
       "      <td>session_0</td>\n",
       "      <td>14</td>\n",
       "      <td>1</td>\n",
       "      <td>SSVEP MAMEM3</td>\n",
       "      <td>RG+logreg</td>\n",
       "    </tr>\n",
       "    <tr>\n",
       "      <th>3</th>\n",
       "      <td>0.777778</td>\n",
       "      <td>1.630761</td>\n",
       "      <td>45.0</td>\n",
       "      <td>4</td>\n",
       "      <td>session_0</td>\n",
       "      <td>14</td>\n",
       "      <td>1</td>\n",
       "      <td>SSVEP MAMEM3</td>\n",
       "      <td>RG+logreg</td>\n",
       "    </tr>\n",
       "    <tr>\n",
       "      <th>4</th>\n",
       "      <td>0.577778</td>\n",
       "      <td>2.488468</td>\n",
       "      <td>45.0</td>\n",
       "      <td>5</td>\n",
       "      <td>session_0</td>\n",
       "      <td>14</td>\n",
       "      <td>1</td>\n",
       "      <td>SSVEP MAMEM3</td>\n",
       "      <td>RG+logreg</td>\n",
       "    </tr>\n",
       "    <tr>\n",
       "      <th>5</th>\n",
       "      <td>0.577778</td>\n",
       "      <td>1.395220</td>\n",
       "      <td>45.0</td>\n",
       "      <td>6</td>\n",
       "      <td>session_0</td>\n",
       "      <td>14</td>\n",
       "      <td>1</td>\n",
       "      <td>SSVEP MAMEM3</td>\n",
       "      <td>RG+logreg</td>\n",
       "    </tr>\n",
       "    <tr>\n",
       "      <th>6</th>\n",
       "      <td>0.555556</td>\n",
       "      <td>1.432244</td>\n",
       "      <td>45.0</td>\n",
       "      <td>7</td>\n",
       "      <td>session_0</td>\n",
       "      <td>14</td>\n",
       "      <td>1</td>\n",
       "      <td>SSVEP MAMEM3</td>\n",
       "      <td>RG+logreg</td>\n",
       "    </tr>\n",
       "    <tr>\n",
       "      <th>7</th>\n",
       "      <td>0.266667</td>\n",
       "      <td>1.679574</td>\n",
       "      <td>45.0</td>\n",
       "      <td>8</td>\n",
       "      <td>session_0</td>\n",
       "      <td>14</td>\n",
       "      <td>1</td>\n",
       "      <td>SSVEP MAMEM3</td>\n",
       "      <td>RG+logreg</td>\n",
       "    </tr>\n",
       "    <tr>\n",
       "      <th>8</th>\n",
       "      <td>0.800000</td>\n",
       "      <td>2.258481</td>\n",
       "      <td>45.0</td>\n",
       "      <td>9</td>\n",
       "      <td>session_0</td>\n",
       "      <td>14</td>\n",
       "      <td>1</td>\n",
       "      <td>SSVEP MAMEM3</td>\n",
       "      <td>RG+logreg</td>\n",
       "    </tr>\n",
       "    <tr>\n",
       "      <th>9</th>\n",
       "      <td>0.933333</td>\n",
       "      <td>1.720083</td>\n",
       "      <td>45.0</td>\n",
       "      <td>10</td>\n",
       "      <td>session_0</td>\n",
       "      <td>14</td>\n",
       "      <td>1</td>\n",
       "      <td>SSVEP MAMEM3</td>\n",
       "      <td>RG+logreg</td>\n",
       "    </tr>\n",
       "  </tbody>\n",
       "</table>\n",
       "</div>"
      ],
      "text/plain": [
       "      score      time  samples subject    session  channels  n_sessions  \\\n",
       "0  0.844444  1.645173     45.0       1  session_0        14           1   \n",
       "1  0.888889  1.360557     45.0       2  session_0        14           1   \n",
       "2  0.355556  2.017418     45.0       3  session_0        14           1   \n",
       "3  0.777778  1.630761     45.0       4  session_0        14           1   \n",
       "4  0.577778  2.488468     45.0       5  session_0        14           1   \n",
       "5  0.577778  1.395220     45.0       6  session_0        14           1   \n",
       "6  0.555556  1.432244     45.0       7  session_0        14           1   \n",
       "7  0.266667  1.679574     45.0       8  session_0        14           1   \n",
       "8  0.800000  2.258481     45.0       9  session_0        14           1   \n",
       "9  0.933333  1.720083     45.0      10  session_0        14           1   \n",
       "\n",
       "        dataset   pipeline  \n",
       "0  SSVEP MAMEM3  RG+logreg  \n",
       "1  SSVEP MAMEM3  RG+logreg  \n",
       "2  SSVEP MAMEM3  RG+logreg  \n",
       "3  SSVEP MAMEM3  RG+logreg  \n",
       "4  SSVEP MAMEM3  RG+logreg  \n",
       "5  SSVEP MAMEM3  RG+logreg  \n",
       "6  SSVEP MAMEM3  RG+logreg  \n",
       "7  SSVEP MAMEM3  RG+logreg  \n",
       "8  SSVEP MAMEM3  RG+logreg  \n",
       "9  SSVEP MAMEM3  RG+logreg  "
      ]
     },
     "execution_count": 10,
     "metadata": {},
     "output_type": "execute_result"
    }
   ],
   "source": [
    "evaluation_filterbank = WithinSessionEvaluation(\n",
    "    paradigm=paradigm_filterbank,\n",
    "    datasets=dataset,\n",
    "    suffix=\"ssvep_workshop_whithin_session_filterbank\",\n",
    "    overwrite=False\n",
    ")\n",
    "results_filterbank = evaluation_filterbank.process(pipelines_filterbank)\n",
    "results_filterbank"
   ]
  },
  {
   "cell_type": "code",
   "execution_count": 11,
   "id": "e9496b92",
   "metadata": {},
   "outputs": [
    {
     "name": "stderr",
     "output_type": "stream",
     "text": [
      "SSVEP MAMEM3-WithinSession: 100%|█| 10/1\n"
     ]
    },
    {
     "data": {
      "text/html": [
       "<div>\n",
       "<style scoped>\n",
       "    .dataframe tbody tr th:only-of-type {\n",
       "        vertical-align: middle;\n",
       "    }\n",
       "\n",
       "    .dataframe tbody tr th {\n",
       "        vertical-align: top;\n",
       "    }\n",
       "\n",
       "    .dataframe thead th {\n",
       "        text-align: right;\n",
       "    }\n",
       "</style>\n",
       "<table border=\"1\" class=\"dataframe\">\n",
       "  <thead>\n",
       "    <tr style=\"text-align: right;\">\n",
       "      <th></th>\n",
       "      <th>score</th>\n",
       "      <th>time</th>\n",
       "      <th>samples</th>\n",
       "      <th>subject</th>\n",
       "      <th>session</th>\n",
       "      <th>channels</th>\n",
       "      <th>n_sessions</th>\n",
       "      <th>dataset</th>\n",
       "      <th>pipeline</th>\n",
       "    </tr>\n",
       "  </thead>\n",
       "  <tbody>\n",
       "    <tr>\n",
       "      <th>0</th>\n",
       "      <td>0.577778</td>\n",
       "      <td>0.010305</td>\n",
       "      <td>45.0</td>\n",
       "      <td>1</td>\n",
       "      <td>session_0</td>\n",
       "      <td>14</td>\n",
       "      <td>1</td>\n",
       "      <td>SSVEP MAMEM3</td>\n",
       "      <td>power+logreg</td>\n",
       "    </tr>\n",
       "    <tr>\n",
       "      <th>1</th>\n",
       "      <td>0.511111</td>\n",
       "      <td>0.010111</td>\n",
       "      <td>45.0</td>\n",
       "      <td>2</td>\n",
       "      <td>session_0</td>\n",
       "      <td>14</td>\n",
       "      <td>1</td>\n",
       "      <td>SSVEP MAMEM3</td>\n",
       "      <td>power+logreg</td>\n",
       "    </tr>\n",
       "    <tr>\n",
       "      <th>2</th>\n",
       "      <td>0.555556</td>\n",
       "      <td>0.010073</td>\n",
       "      <td>45.0</td>\n",
       "      <td>3</td>\n",
       "      <td>session_0</td>\n",
       "      <td>14</td>\n",
       "      <td>1</td>\n",
       "      <td>SSVEP MAMEM3</td>\n",
       "      <td>power+logreg</td>\n",
       "    </tr>\n",
       "    <tr>\n",
       "      <th>3</th>\n",
       "      <td>0.444444</td>\n",
       "      <td>0.009915</td>\n",
       "      <td>45.0</td>\n",
       "      <td>4</td>\n",
       "      <td>session_0</td>\n",
       "      <td>14</td>\n",
       "      <td>1</td>\n",
       "      <td>SSVEP MAMEM3</td>\n",
       "      <td>power+logreg</td>\n",
       "    </tr>\n",
       "    <tr>\n",
       "      <th>4</th>\n",
       "      <td>0.511111</td>\n",
       "      <td>0.009887</td>\n",
       "      <td>45.0</td>\n",
       "      <td>5</td>\n",
       "      <td>session_0</td>\n",
       "      <td>14</td>\n",
       "      <td>1</td>\n",
       "      <td>SSVEP MAMEM3</td>\n",
       "      <td>power+logreg</td>\n",
       "    </tr>\n",
       "    <tr>\n",
       "      <th>5</th>\n",
       "      <td>0.555556</td>\n",
       "      <td>0.010953</td>\n",
       "      <td>45.0</td>\n",
       "      <td>6</td>\n",
       "      <td>session_0</td>\n",
       "      <td>14</td>\n",
       "      <td>1</td>\n",
       "      <td>SSVEP MAMEM3</td>\n",
       "      <td>power+logreg</td>\n",
       "    </tr>\n",
       "    <tr>\n",
       "      <th>6</th>\n",
       "      <td>0.511111</td>\n",
       "      <td>0.011738</td>\n",
       "      <td>45.0</td>\n",
       "      <td>7</td>\n",
       "      <td>session_0</td>\n",
       "      <td>14</td>\n",
       "      <td>1</td>\n",
       "      <td>SSVEP MAMEM3</td>\n",
       "      <td>power+logreg</td>\n",
       "    </tr>\n",
       "    <tr>\n",
       "      <th>7</th>\n",
       "      <td>0.511111</td>\n",
       "      <td>0.010168</td>\n",
       "      <td>45.0</td>\n",
       "      <td>8</td>\n",
       "      <td>session_0</td>\n",
       "      <td>14</td>\n",
       "      <td>1</td>\n",
       "      <td>SSVEP MAMEM3</td>\n",
       "      <td>power+logreg</td>\n",
       "    </tr>\n",
       "    <tr>\n",
       "      <th>8</th>\n",
       "      <td>0.666667</td>\n",
       "      <td>0.010414</td>\n",
       "      <td>45.0</td>\n",
       "      <td>9</td>\n",
       "      <td>session_0</td>\n",
       "      <td>14</td>\n",
       "      <td>1</td>\n",
       "      <td>SSVEP MAMEM3</td>\n",
       "      <td>power+logreg</td>\n",
       "    </tr>\n",
       "    <tr>\n",
       "      <th>9</th>\n",
       "      <td>0.466667</td>\n",
       "      <td>0.009962</td>\n",
       "      <td>45.0</td>\n",
       "      <td>10</td>\n",
       "      <td>session_0</td>\n",
       "      <td>14</td>\n",
       "      <td>1</td>\n",
       "      <td>SSVEP MAMEM3</td>\n",
       "      <td>power+logreg</td>\n",
       "    </tr>\n",
       "  </tbody>\n",
       "</table>\n",
       "</div>"
      ],
      "text/plain": [
       "      score      time  samples subject    session  channels  n_sessions  \\\n",
       "0  0.577778  0.010305     45.0       1  session_0        14           1   \n",
       "1  0.511111  0.010111     45.0       2  session_0        14           1   \n",
       "2  0.555556  0.010073     45.0       3  session_0        14           1   \n",
       "3  0.444444  0.009915     45.0       4  session_0        14           1   \n",
       "4  0.511111  0.009887     45.0       5  session_0        14           1   \n",
       "5  0.555556  0.010953     45.0       6  session_0        14           1   \n",
       "6  0.511111  0.011738     45.0       7  session_0        14           1   \n",
       "7  0.511111  0.010168     45.0       8  session_0        14           1   \n",
       "8  0.666667  0.010414     45.0       9  session_0        14           1   \n",
       "9  0.466667  0.009962     45.0      10  session_0        14           1   \n",
       "\n",
       "        dataset      pipeline  \n",
       "0  SSVEP MAMEM3  power+logreg  \n",
       "1  SSVEP MAMEM3  power+logreg  \n",
       "2  SSVEP MAMEM3  power+logreg  \n",
       "3  SSVEP MAMEM3  power+logreg  \n",
       "4  SSVEP MAMEM3  power+logreg  \n",
       "5  SSVEP MAMEM3  power+logreg  \n",
       "6  SSVEP MAMEM3  power+logreg  \n",
       "7  SSVEP MAMEM3  power+logreg  \n",
       "8  SSVEP MAMEM3  power+logreg  \n",
       "9  SSVEP MAMEM3  power+logreg  "
      ]
     },
     "execution_count": 11,
     "metadata": {},
     "output_type": "execute_result"
    }
   ],
   "source": [
    "evaluation_filterbank = WithinSessionEvaluation(\n",
    "    paradigm=paradigm_filterbank_baseline,\n",
    "    datasets=dataset,\n",
    "    suffix=\"ssvep_workshop_whithin_session_filterbank_baseline\",\n",
    "    overwrite=True\n",
    ")\n",
    "results_filterbank_baseline = evaluation_filterbank.process(pipelines_filterbank_baseline)\n",
    "results_filterbank_baseline"
   ]
  },
  {
   "cell_type": "code",
   "execution_count": 12,
   "id": "187447dd",
   "metadata": {},
   "outputs": [
    {
     "data": {
      "text/plain": [
       "(0.0, 1.0)"
      ]
     },
     "execution_count": 12,
     "metadata": {},
     "output_type": "execute_result"
    },
    {
     "data": {
      "image/png": "[encoded data removed]",
      "text/plain": [
       "<Figure size 432x288 with 1 Axes>"
      ]
     },
     "metadata": {
      "needs_background": "light"
     },
     "output_type": "display_data"
    }
   ],
   "source": [
    "import seaborn as sns\n",
    "import pandas as pd\n",
    "\n",
    "results = pd.concat([results_bandpass, results_filterbank, results_filterbank_baseline])\n",
    "ax = sns.stripplot(data=results, y=\"score\", x=\"pipeline\", zorder=1, alpha=.5, palette=\"Set1\")\n",
    "ax = sns.pointplot(data=results, y=\"score\", x=\"pipeline\" , palette=\"Set1\")\n",
    "ax.set_ylabel(\"Accuracy\")\n",
    "ax.axhline(1/n_classes)\n",
    "ax.set_ylim(0,1)"
   ]
  },
  {
   "cell_type": "code",
   "execution_count": null,
   "id": "20bf90df",
   "metadata": {},
   "outputs": [],
   "source": []
  },
  {
   "cell_type": "code",
   "execution_count": null,
   "id": "50db928c",
   "metadata": {},
   "outputs": [],
   "source": []
  },
  {
   "cell_type": "code",
   "execution_count": null,
   "id": "93ec94bf",
   "metadata": {},
   "outputs": [],
   "source": []
  }
 ],
 "metadata": {
  "kernelspec": {
   "display_name": "Python 3 (ipykernel)",
   "language": "python",
   "name": "python3"
  },
  "language_info": {
   "codemirror_mode": {
    "name": "ipython",
    "version": 3
   },
   "file_extension": ".py",
   "mimetype": "text/x-python",
   "name": "python",
   "nbconvert_exporter": "python",
   "pygments_lexer": "ipython3",
   "version": "3.10.5"
  }
 },
 "nbformat": 4,
 "nbformat_minor": 5
}
