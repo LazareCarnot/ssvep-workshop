{
 "cells": [
  {
   "cell_type": "code",
   "execution_count": 1,
   "id": "5cc2877c",
   "metadata": {},
   "outputs": [],
   "source": [
    "from moabb.datasets import SSVEPExo\n",
    "\n",
    "dataset = SSVEPExo()\n",
    "interval = dataset.interval\n",
    "sfreq=256"
   ]
  },
  {
   "cell_type": "markdown",
   "id": "5a18416b",
   "metadata": {},
   "source": [
    "## Algorithm 1: Canonical correlation analysis"
   ]
  },
  {
   "cell_type": "code",
   "execution_count": 2,
   "id": "d78997f9",
   "metadata": {},
   "outputs": [
    {
     "name": "stderr",
     "output_type": "stream",
     "text": [
      "Choosing the first 3 classes from all possible events\n"
     ]
    },
    {
     "name": "stdout",
     "output_type": "stream",
     "text": [
      "{'13': 2, '17': 3, '21': 4}\n"
     ]
    }
   ],
   "source": [
    "from moabb.paradigms import SSVEP\n",
    "\n",
    "n_classes=3\n",
    "paradigm_bandpass = SSVEP(fmin=10, fmax=45, tmin=0, tmax=5, n_classes=n_classes)\n",
    "freqs = paradigm_bandpass.used_events(dataset)\n",
    "print(freqs)"
   ]
  },
  {
   "cell_type": "code",
   "execution_count": 3,
   "id": "8403cff0",
   "metadata": {},
   "outputs": [],
   "source": [
    "from sklearn.pipeline import make_pipeline\n",
    "from moabb.pipelines import SSVEP_CCA\n",
    "from moabb.pipelines import ExtendedSSVEPSignal\n",
    "\n",
    "\n",
    "pipelines_bandpass = dict()\n",
    "pipelines_bandpass[\"CCA\"] = make_pipeline(\n",
    "    SSVEP_CCA(interval=interval, freqs=freqs, n_harmonics=3)\n",
    ")"
   ]
  },
  {
   "cell_type": "markdown",
   "id": "66126c76",
   "metadata": {},
   "source": [
    "## Algorithm 2: Task-related correlation analysis"
   ]
  },
  {
   "cell_type": "code",
   "execution_count": 4,
   "id": "9d0bfb9d",
   "metadata": {},
   "outputs": [],
   "source": [
    "from moabb.pipelines import SSVEP_TRCA\n",
    "\n",
    "pipelines_bandpass[\"TRCA\"] = make_pipeline(\n",
    "    SSVEP_TRCA(interval=interval, freqs=freqs,n_fbands=5)\n",
    "    \n",
    ")"
   ]
  },
  {
   "cell_type": "markdown",
   "id": "dd9273e4",
   "metadata": {},
   "source": [
    "## Algorithm 3: Riemannian Geometry"
   ]
  },
  {
   "cell_type": "code",
   "execution_count": 5,
   "id": "39ea70d8",
   "metadata": {},
   "outputs": [
    {
     "name": "stderr",
     "output_type": "stream",
     "text": [
      "Choosing the first 3 classes from all possible events\n"
     ]
    }
   ],
   "source": [
    "from moabb.paradigms import FilterBankSSVEP\n",
    "\n",
    "filter_freqs = [13,13*2,13*3,17,17*2,17*3,21,21*2,21*3]\n",
    "filters = [[f-.5, f+.5] for f in filter_freqs]\n",
    "\n",
    "paradigm_filterbank = FilterBankSSVEP(n_classes=n_classes, tmin=0, tmax=5, filters=filters)"
   ]
  },
  {
   "cell_type": "code",
   "execution_count": 6,
   "id": "f8ecdadb",
   "metadata": {},
   "outputs": [],
   "source": [
    "from moabb.pipelines import ExtendedSSVEPSignal\n",
    "from pyriemann.estimation import Covariances\n",
    "from pyriemann.tangentspace import TangentSpace\n",
    "from sklearn.linear_model import LogisticRegression\n",
    "\n",
    "pipelines_filterbank = dict()\n",
    "pipelines_filterbank[\"RG+logreg\"] = make_pipeline(\n",
    "    ExtendedSSVEPSignal(),\n",
    "    Covariances(estimator=\"lwf\"),\n",
    "    TangentSpace(),\n",
    "    LogisticRegression(solver=\"lbfgs\", multi_class=\"auto\"),\n",
    ")\n"
   ]
  },
  {
   "cell_type": "markdown",
   "id": "a06d34c2",
   "metadata": {},
   "source": [
    "## Our algorithm"
   ]
  },
  {
   "cell_type": "code",
   "execution_count": 7,
   "id": "5cbf1622",
   "metadata": {},
   "outputs": [
    {
     "name": "stderr",
     "output_type": "stream",
     "text": [
      "Choosing the first 3 classes from all possible events\n"
     ]
    }
   ],
   "source": [
    "paradigm_filterbank_baseline = FilterBankSSVEP(n_classes=n_classes, tmin=-3, tmax=5, filters=filters)"
   ]
  },
  {
   "cell_type": "code",
   "execution_count": 10,
   "id": "b1c6b809",
   "metadata": {},
   "outputs": [],
   "source": [
    "from sklearn.base import BaseEstimator, TransformerMixin\n",
    "import numpy as np\n",
    "from sklearn.preprocessing import FunctionTransformer\n",
    "\n",
    "class BandPower(BaseEstimator, TransformerMixin):\n",
    "    \n",
    "    def __init__(self, sfreq=256, tmin=-3, baseline=(-2.5, -.5)):\n",
    "        self.sfreq=sfreq\n",
    "        self.tmin=tmin\n",
    "        self.baseline=baseline\n",
    "    \n",
    "    def fit(self, X,y=None):\n",
    "        return self\n",
    "    \n",
    "    def transform(self, X,y=None):\n",
    "        baseline_start = int((self.baseline[0]-self.tmin)*self.sfreq)\n",
    "        baseline_end = int((self.baseline[1]-self.tmin)*self.sfreq)        \n",
    "        baseline = X[:,:,baseline_start:baseline_end,:]\n",
    "        stim_start = max(0, int(-self.tmin*self.sfreq))\n",
    "        stimulation = X[:,:,stim_start:,:]\n",
    "        baseline_power = np.mean(baseline**2, axis=(1,2))\n",
    "        stimulation_power = np.mean(stimulation**2, axis=(1,2))\n",
    "        return stimulation_power/baseline_power\n",
    "\n",
    "\n",
    "pipelines_filterbank_baseline = dict()\n",
    "pipelines_filterbank_baseline['power+logreg'] = make_pipeline(\n",
    "    BandPower(),\n",
    "    FunctionTransformer(np.log),\n",
    "    LogisticRegression(solver=\"lbfgs\", multi_class=\"auto\"),\n",
    ")"
   ]
  },
  {
   "cell_type": "markdown",
   "id": "62595cc7",
   "metadata": {},
   "source": [
    "## Evaluate algorithm performance"
   ]
  },
  {
   "cell_type": "code",
   "execution_count": null,
   "id": "b7970262",
   "metadata": {
    "scrolled": true
   },
   "outputs": [
    {
     "name": "stderr",
     "output_type": "stream",
     "text": [
      "SSVEP Exoskeleton-WithinSession:  25%|████████████▎                                    | 3/12 [00:20<01:01,  6.79s/it]"
     ]
    }
   ],
   "source": [
    "from moabb.evaluations import WithinSessionEvaluation\n",
    "\n",
    "evaluation_bandpass = WithinSessionEvaluation(\n",
    "    paradigm=paradigm_bandpass,\n",
    "    datasets=dataset,\n",
    "    suffix=\"ssvep_workshop_whithin_session_bandpass\",\n",
    "    overwrite=False\n",
    ")\n",
    "results_bandpass = evaluation_bandpass.process(pipelines_bandpass)\n",
    "results_bandpass"
   ]
  },
  {
   "cell_type": "code",
   "execution_count": null,
   "id": "302ed204",
   "metadata": {},
   "outputs": [],
   "source": [
    "evaluation_filterbank = WithinSessionEvaluation(\n",
    "    paradigm=paradigm_filterbank,\n",
    "    datasets=dataset,\n",
    "    suffix=\"ssvep_workshop_whithin_session_filterbank\",\n",
    "    overwrite=False\n",
    ")\n",
    "results_filterbank = evaluation_filterbank.process(pipelines_filterbank)\n",
    "results_filterbank"
   ]
  },
  {
   "cell_type": "code",
   "execution_count": null,
   "id": "fb8b7dcb",
   "metadata": {},
   "outputs": [],
   "source": [
    "evaluation_filterbank = WithinSessionEvaluation(\n",
    "    paradigm=paradigm_filterbank_baseline,\n",
    "    datasets=dataset,\n",
    "    suffix=\"ssvep_workshop_whithin_session_filterbank_baseline\",\n",
    "    overwrite=True\n",
    ")\n",
    "results_filterbank_baseline = evaluation_filterbank.process(pipelines_filterbank_baseline)\n",
    "results_filterbank_baseline"
   ]
  },
  {
   "cell_type": "code",
   "execution_count": null,
   "id": "187447dd",
   "metadata": {},
   "outputs": [],
   "source": [
    "import seaborn as sns\n",
    "import pandas as pd\n",
    "\n",
    "results = pd.concat([results_bandpass, results_filterbank, results_filterbank_baseline])\n",
    "ax = sns.stripplot(data=results, y=\"score\", x=\"pipeline\", alpha=.5, palette=\"Set1\")\n",
    "ax = sns.pointplot(data=results, y=\"score\", x=\"pipeline\" ,zorder=1, palette=\"Set1\")\n",
    "ax.set_ylabel(\"Accuracy\")\n",
    "ax.set_ylim(0,1)\n",
    "ax.axhline(1/n_classes)"
   ]
  },
  {
   "cell_type": "code",
   "execution_count": null,
   "id": "01fd6fa7",
   "metadata": {},
   "outputs": [],
   "source": []
  },
  {
   "cell_type": "code",
   "execution_count": null,
   "id": "6ee38c30",
   "metadata": {},
   "outputs": [],
   "source": []
  }
 ],
 "metadata": {
  "kernelspec": {
   "display_name": "Python 3 (ipykernel)",
   "language": "python",
   "name": "python3"
  },
  "language_info": {
   "codemirror_mode": {
    "name": "ipython",
    "version": 3
   },
   "file_extension": ".py",
   "mimetype": "text/x-python",
   "name": "python",
   "nbconvert_exporter": "python",
   "pygments_lexer": "ipython3",
   "version": "3.10.5"
  }
 },
 "nbformat": 4,
 "nbformat_minor": 5
}
